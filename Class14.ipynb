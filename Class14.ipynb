{
  "nbformat": 4,
  "nbformat_minor": 0,
  "metadata": {
    "colab": {
      "provenance": [],
      "authorship_tag": "ABX9TyOvZxc238umSS8vD9D0tVi6",
      "include_colab_link": true
    },
    "kernelspec": {
      "name": "python3",
      "display_name": "Python 3"
    },
    "language_info": {
      "name": "python"
    }
  },
  "cells": [
    {
      "cell_type": "markdown",
      "metadata": {
        "id": "view-in-github",
        "colab_type": "text"
      },
      "source": [
        "<a href=\"https://colab.research.google.com/github/Mustakim-Mh/1st/blob/main/Class14.ipynb\" target=\"_parent\"><img src=\"https://colab.research.google.com/assets/colab-badge.svg\" alt=\"Open In Colab\"/></a>"
      ]
    },
    {
      "cell_type": "code",
      "execution_count": null,
      "metadata": {
        "colab": {
          "base_uri": "https://localhost:8080/",
          "height": 73
        },
        "id": "t0yihBdoq7yr",
        "outputId": "46211ba8-adf8-4fad-b38d-cbaac552ce0b"
      },
      "outputs": [
        {
          "output_type": "display_data",
          "data": {
            "text/plain": [
              "<IPython.core.display.HTML object>"
            ],
            "text/html": [
              "\n",
              "     <input type=\"file\" id=\"files-433a7556-b48c-4c05-88ae-64d372273018\" name=\"files[]\" multiple disabled\n",
              "        style=\"border:none\" />\n",
              "     <output id=\"result-433a7556-b48c-4c05-88ae-64d372273018\">\n",
              "      Upload widget is only available when the cell has been executed in the\n",
              "      current browser session. Please rerun this cell to enable.\n",
              "      </output>\n",
              "      <script>// Copyright 2017 Google LLC\n",
              "//\n",
              "// Licensed under the Apache License, Version 2.0 (the \"License\");\n",
              "// you may not use this file except in compliance with the License.\n",
              "// You may obtain a copy of the License at\n",
              "//\n",
              "//      http://www.apache.org/licenses/LICENSE-2.0\n",
              "//\n",
              "// Unless required by applicable law or agreed to in writing, software\n",
              "// distributed under the License is distributed on an \"AS IS\" BASIS,\n",
              "// WITHOUT WARRANTIES OR CONDITIONS OF ANY KIND, either express or implied.\n",
              "// See the License for the specific language governing permissions and\n",
              "// limitations under the License.\n",
              "\n",
              "/**\n",
              " * @fileoverview Helpers for google.colab Python module.\n",
              " */\n",
              "(function(scope) {\n",
              "function span(text, styleAttributes = {}) {\n",
              "  const element = document.createElement('span');\n",
              "  element.textContent = text;\n",
              "  for (const key of Object.keys(styleAttributes)) {\n",
              "    element.style[key] = styleAttributes[key];\n",
              "  }\n",
              "  return element;\n",
              "}\n",
              "\n",
              "// Max number of bytes which will be uploaded at a time.\n",
              "const MAX_PAYLOAD_SIZE = 100 * 1024;\n",
              "\n",
              "function _uploadFiles(inputId, outputId) {\n",
              "  const steps = uploadFilesStep(inputId, outputId);\n",
              "  const outputElement = document.getElementById(outputId);\n",
              "  // Cache steps on the outputElement to make it available for the next call\n",
              "  // to uploadFilesContinue from Python.\n",
              "  outputElement.steps = steps;\n",
              "\n",
              "  return _uploadFilesContinue(outputId);\n",
              "}\n",
              "\n",
              "// This is roughly an async generator (not supported in the browser yet),\n",
              "// where there are multiple asynchronous steps and the Python side is going\n",
              "// to poll for completion of each step.\n",
              "// This uses a Promise to block the python side on completion of each step,\n",
              "// then passes the result of the previous step as the input to the next step.\n",
              "function _uploadFilesContinue(outputId) {\n",
              "  const outputElement = document.getElementById(outputId);\n",
              "  const steps = outputElement.steps;\n",
              "\n",
              "  const next = steps.next(outputElement.lastPromiseValue);\n",
              "  return Promise.resolve(next.value.promise).then((value) => {\n",
              "    // Cache the last promise value to make it available to the next\n",
              "    // step of the generator.\n",
              "    outputElement.lastPromiseValue = value;\n",
              "    return next.value.response;\n",
              "  });\n",
              "}\n",
              "\n",
              "/**\n",
              " * Generator function which is called between each async step of the upload\n",
              " * process.\n",
              " * @param {string} inputId Element ID of the input file picker element.\n",
              " * @param {string} outputId Element ID of the output display.\n",
              " * @return {!Iterable<!Object>} Iterable of next steps.\n",
              " */\n",
              "function* uploadFilesStep(inputId, outputId) {\n",
              "  const inputElement = document.getElementById(inputId);\n",
              "  inputElement.disabled = false;\n",
              "\n",
              "  const outputElement = document.getElementById(outputId);\n",
              "  outputElement.innerHTML = '';\n",
              "\n",
              "  const pickedPromise = new Promise((resolve) => {\n",
              "    inputElement.addEventListener('change', (e) => {\n",
              "      resolve(e.target.files);\n",
              "    });\n",
              "  });\n",
              "\n",
              "  const cancel = document.createElement('button');\n",
              "  inputElement.parentElement.appendChild(cancel);\n",
              "  cancel.textContent = 'Cancel upload';\n",
              "  const cancelPromise = new Promise((resolve) => {\n",
              "    cancel.onclick = () => {\n",
              "      resolve(null);\n",
              "    };\n",
              "  });\n",
              "\n",
              "  // Wait for the user to pick the files.\n",
              "  const files = yield {\n",
              "    promise: Promise.race([pickedPromise, cancelPromise]),\n",
              "    response: {\n",
              "      action: 'starting',\n",
              "    }\n",
              "  };\n",
              "\n",
              "  cancel.remove();\n",
              "\n",
              "  // Disable the input element since further picks are not allowed.\n",
              "  inputElement.disabled = true;\n",
              "\n",
              "  if (!files) {\n",
              "    return {\n",
              "      response: {\n",
              "        action: 'complete',\n",
              "      }\n",
              "    };\n",
              "  }\n",
              "\n",
              "  for (const file of files) {\n",
              "    const li = document.createElement('li');\n",
              "    li.append(span(file.name, {fontWeight: 'bold'}));\n",
              "    li.append(span(\n",
              "        `(${file.type || 'n/a'}) - ${file.size} bytes, ` +\n",
              "        `last modified: ${\n",
              "            file.lastModifiedDate ? file.lastModifiedDate.toLocaleDateString() :\n",
              "                                    'n/a'} - `));\n",
              "    const percent = span('0% done');\n",
              "    li.appendChild(percent);\n",
              "\n",
              "    outputElement.appendChild(li);\n",
              "\n",
              "    const fileDataPromise = new Promise((resolve) => {\n",
              "      const reader = new FileReader();\n",
              "      reader.onload = (e) => {\n",
              "        resolve(e.target.result);\n",
              "      };\n",
              "      reader.readAsArrayBuffer(file);\n",
              "    });\n",
              "    // Wait for the data to be ready.\n",
              "    let fileData = yield {\n",
              "      promise: fileDataPromise,\n",
              "      response: {\n",
              "        action: 'continue',\n",
              "      }\n",
              "    };\n",
              "\n",
              "    // Use a chunked sending to avoid message size limits. See b/62115660.\n",
              "    let position = 0;\n",
              "    do {\n",
              "      const length = Math.min(fileData.byteLength - position, MAX_PAYLOAD_SIZE);\n",
              "      const chunk = new Uint8Array(fileData, position, length);\n",
              "      position += length;\n",
              "\n",
              "      const base64 = btoa(String.fromCharCode.apply(null, chunk));\n",
              "      yield {\n",
              "        response: {\n",
              "          action: 'append',\n",
              "          file: file.name,\n",
              "          data: base64,\n",
              "        },\n",
              "      };\n",
              "\n",
              "      let percentDone = fileData.byteLength === 0 ?\n",
              "          100 :\n",
              "          Math.round((position / fileData.byteLength) * 100);\n",
              "      percent.textContent = `${percentDone}% done`;\n",
              "\n",
              "    } while (position < fileData.byteLength);\n",
              "  }\n",
              "\n",
              "  // All done.\n",
              "  yield {\n",
              "    response: {\n",
              "      action: 'complete',\n",
              "    }\n",
              "  };\n",
              "}\n",
              "\n",
              "scope.google = scope.google || {};\n",
              "scope.google.colab = scope.google.colab || {};\n",
              "scope.google.colab._files = {\n",
              "  _uploadFiles,\n",
              "  _uploadFilesContinue,\n",
              "};\n",
              "})(self);\n",
              "</script> "
            ]
          },
          "metadata": {}
        },
        {
          "output_type": "stream",
          "name": "stdout",
          "text": [
            "Saving Titanic-Dataset.csv to Titanic-Dataset.csv\n"
          ]
        }
      ],
      "source": [
        "import pandas as pd\n",
        "\n",
        "\n",
        "from google.colab import files\n",
        "uploaded=files.upload()"
      ]
    },
    {
      "cell_type": "code",
      "source": [
        "import matplotlib.pyplot as plt\n",
        "\n",
        "df=pd.read_csv('Titanic-Dataset.csv')\n",
        "print(df.head())\n",
        "\n",
        "df['Age']=df['Age'].fillna(df['Age'].mean())\n",
        "df=df.drop_duplicates()\n",
        "\n",
        "plt.figure(figsize=(10,5))\n",
        "plt.hist(df['Age'],bins=50,color='green')\n",
        "plt.title('Age distribution on the Titanic')\n",
        "plt.xlabel('Age')\n",
        "plt.ylabel('Frequency')\n",
        "plt.show()\n"
      ],
      "metadata": {
        "colab": {
          "base_uri": "https://localhost:8080/",
          "height": 834
        },
        "id": "vEjVrinp5ktS",
        "outputId": "90df522f-0cc1-4ed6-859c-01660ce3d7a6"
      },
      "execution_count": null,
      "outputs": [
        {
          "output_type": "stream",
          "name": "stdout",
          "text": [
            "   PassengerId  Survived  Pclass  \\\n",
            "0            1         0       3   \n",
            "1            2         1       1   \n",
            "2            3         1       3   \n",
            "3            4         1       1   \n",
            "4            5         0       3   \n",
            "\n",
            "                                                Name     Sex   Age  SibSp  \\\n",
            "0                            Braund, Mr. Owen Harris    male  22.0      1   \n",
            "1  Cumings, Mrs. John Bradley (Florence Briggs Th...  female  38.0      1   \n",
            "2                             Heikkinen, Miss. Laina  female  26.0      0   \n",
            "3       Futrelle, Mrs. Jacques Heath (Lily May Peel)  female  35.0      1   \n",
            "4                           Allen, Mr. William Henry    male  35.0      0   \n",
            "\n",
            "   Parch            Ticket     Fare Cabin Embarked  \n",
            "0      0         A/5 21171   7.2500   NaN        S  \n",
            "1      0          PC 17599  71.2833   C85        C  \n",
            "2      0  STON/O2. 3101282   7.9250   NaN        S  \n",
            "3      0            113803  53.1000  C123        S  \n",
            "4      0            373450   8.0500   NaN        S  \n"
          ]
        },
        {
          "output_type": "display_data",
          "data": {
            "text/plain": [
              "<Figure size 1000x500 with 1 Axes>"
            ],
            "image/png": "[encoded data removed]"
          },
          "metadata": {}
        }
      ]
    },
    {
      "cell_type": "code",
      "source": [
        "import pandas as pd\n",
        "import numpy as np\n",
        "import matplotlib.pyplot as plt\n",
        "import seaborn as sns"
      ],
      "metadata": {
        "id": "n9OM3-h391yx"
      },
      "execution_count": null,
      "outputs": []
    },
    {
      "cell_type": "code",
      "source": [
        "print(df.shape)\n",
        "print(df.columns)\n",
        "\n",
        "print(df.describe())\n",
        "\n",
        "print(df.isnull().sum())"
      ],
      "metadata": {
        "colab": {
          "base_uri": "https://localhost:8080/"
        },
        "id": "nFkFyd3R-JPA",
        "outputId": "19427c4c-6259-4652-888c-1a4f5a3f4d73"
      },
      "execution_count": null,
      "outputs": [
        {
          "output_type": "stream",
          "name": "stdout",
          "text": [
            "(891, 12)\n",
            "Index(['PassengerId', 'Survived', 'Pclass', 'Name', 'Sex', 'Age', 'SibSp',\n",
            "       'Parch', 'Ticket', 'Fare', 'Cabin', 'Embarked'],\n",
            "      dtype='object')\n",
            "       PassengerId    Survived      Pclass         Age       SibSp  \\\n",
            "count   891.000000  891.000000  891.000000  891.000000  891.000000   \n",
            "mean    446.000000    0.383838    2.308642   29.699118    0.523008   \n",
            "std     257.353842    0.486592    0.836071   13.002015    1.102743   \n",
            "min       1.000000    0.000000    1.000000    0.420000    0.000000   \n",
            "25%     223.500000    0.000000    2.000000   22.000000    0.000000   \n",
            "50%     446.000000    0.000000    3.000000   29.699118    0.000000   \n",
            "75%     668.500000    1.000000    3.000000   35.000000    1.000000   \n",
            "max     891.000000    1.000000    3.000000   80.000000    8.000000   \n",
            "\n",
            "            Parch        Fare  \n",
            "count  891.000000  891.000000  \n",
            "mean     0.381594   32.204208  \n",
            "std      0.806057   49.693429  \n",
            "min      0.000000    0.000000  \n",
            "25%      0.000000    7.910400  \n",
            "50%      0.000000   14.454200  \n",
            "75%      0.000000   31.000000  \n",
            "max      6.000000  512.329200  \n",
            "PassengerId      0\n",
            "Survived         0\n",
            "Pclass           0\n",
            "Name             0\n",
            "Sex              0\n",
            "Age              0\n",
            "SibSp            0\n",
            "Parch            0\n",
            "Ticket           0\n",
            "Fare             0\n",
            "Cabin          687\n",
            "Embarked         2\n",
            "dtype: int64\n"
          ]
        }
      ]
    },
    {
      "cell_type": "code",
      "source": [
        "df['Age']=df['Age'].fillna(df['Age'].median())\n",
        "df=df.drop_duplicates()\n",
        "print(df)\n"
      ],
      "metadata": {
        "colab": {
          "base_uri": "https://localhost:8080/"
        },
        "id": "iGbfSj1rCYtZ",
        "outputId": "3f781ee3-7dfa-4f66-be5d-f3cc005c4c02"
      },
      "execution_count": null,
      "outputs": [
        {
          "output_type": "stream",
          "name": "stdout",
          "text": [
            "     PassengerId  Survived  Pclass  \\\n",
            "0              1         0       3   \n",
            "1              2         1       1   \n",
            "2              3         1       3   \n",
            "3              4         1       1   \n",
            "4              5         0       3   \n",
            "..           ...       ...     ...   \n",
            "886          887         0       2   \n",
            "887          888         1       1   \n",
            "888          889         0       3   \n",
            "889          890         1       1   \n",
            "890          891         0       3   \n",
            "\n",
            "                                                  Name     Sex        Age  \\\n",
            "0                              Braund, Mr. Owen Harris    male  22.000000   \n",
            "1    Cumings, Mrs. John Bradley (Florence Briggs Th...  female  38.000000   \n",
            "2                               Heikkinen, Miss. Laina  female  26.000000   \n",
            "3         Futrelle, Mrs. Jacques Heath (Lily May Peel)  female  35.000000   \n",
            "4                             Allen, Mr. William Henry    male  35.000000   \n",
            "..                                                 ...     ...        ...   \n",
            "886                              Montvila, Rev. Juozas    male  27.000000   \n",
            "887                       Graham, Miss. Margaret Edith  female  19.000000   \n",
            "888           Johnston, Miss. Catherine Helen \"Carrie\"  female  29.699118   \n",
            "889                              Behr, Mr. Karl Howell    male  26.000000   \n",
            "890                                Dooley, Mr. Patrick    male  32.000000   \n",
            "\n",
            "     SibSp  Parch            Ticket     Fare Cabin Embarked  \n",
            "0        1      0         A/5 21171   7.2500   NaN        S  \n",
            "1        1      0          PC 17599  71.2833   C85        C  \n",
            "2        0      0  STON/O2. 3101282   7.9250   NaN        S  \n",
            "3        1      0            113803  53.1000  C123        S  \n",
            "4        0      0            373450   8.0500   NaN        S  \n",
            "..     ...    ...               ...      ...   ...      ...  \n",
            "886      0      0            211536  13.0000   NaN        S  \n",
            "887      0      0            112053  30.0000   B42        S  \n",
            "888      1      2        W./C. 6607  23.4500   NaN        S  \n",
            "889      0      0            111369  30.0000  C148        C  \n",
            "890      0      0            370376   7.7500   NaN        Q  \n",
            "\n",
            "[891 rows x 12 columns]\n"
          ]
        }
      ]
    },
    {
      "cell_type": "code",
      "source": [
        "df.dropna(subset=['Embarked'],inplace=True)\n",
        "print(df)"
      ],
      "metadata": {
        "colab": {
          "base_uri": "https://localhost:8080/"
        },
        "id": "m-JUvyJ4Dcga",
        "outputId": "7f548aca-e947-42df-e53b-0723b79af479"
      },
      "execution_count": null,
      "outputs": [
        {
          "output_type": "stream",
          "name": "stdout",
          "text": [
            "     PassengerId  Survived  Pclass  \\\n",
            "0              1         0       3   \n",
            "1              2         1       1   \n",
            "2              3         1       3   \n",
            "3              4         1       1   \n",
            "4              5         0       3   \n",
            "..           ...       ...     ...   \n",
            "886          887         0       2   \n",
            "887          888         1       1   \n",
            "888          889         0       3   \n",
            "889          890         1       1   \n",
            "890          891         0       3   \n",
            "\n",
            "                                                  Name     Sex        Age  \\\n",
            "0                              Braund, Mr. Owen Harris    male  22.000000   \n",
            "1    Cumings, Mrs. John Bradley (Florence Briggs Th...  female  38.000000   \n",
            "2                               Heikkinen, Miss. Laina  female  26.000000   \n",
            "3         Futrelle, Mrs. Jacques Heath (Lily May Peel)  female  35.000000   \n",
            "4                             Allen, Mr. William Henry    male  35.000000   \n",
            "..                                                 ...     ...        ...   \n",
            "886                              Montvila, Rev. Juozas    male  27.000000   \n",
            "887                       Graham, Miss. Margaret Edith  female  19.000000   \n",
            "888           Johnston, Miss. Catherine Helen \"Carrie\"  female  29.699118   \n",
            "889                              Behr, Mr. Karl Howell    male  26.000000   \n",
            "890                                Dooley, Mr. Patrick    male  32.000000   \n",
            "\n",
            "     SibSp  Parch            Ticket     Fare Cabin Embarked  \n",
            "0        1      0         A/5 21171   7.2500   NaN        S  \n",
            "1        1      0          PC 17599  71.2833   C85        C  \n",
            "2        0      0  STON/O2. 3101282   7.9250   NaN        S  \n",
            "3        1      0            113803  53.1000  C123        S  \n",
            "4        0      0            373450   8.0500   NaN        S  \n",
            "..     ...    ...               ...      ...   ...      ...  \n",
            "886      0      0            211536  13.0000   NaN        S  \n",
            "887      0      0            112053  30.0000   B42        S  \n",
            "888      1      2        W./C. 6607  23.4500   NaN        S  \n",
            "889      0      0            111369  30.0000  C148        C  \n",
            "890      0      0            370376   7.7500   NaN        Q  \n",
            "\n",
            "[889 rows x 12 columns]\n"
          ]
        }
      ]
    },
    {
      "cell_type": "code",
      "source": [
        "df.dropna(subset=['Cabin'],inplace=True)\n",
        "print(df)"
      ],
      "metadata": {
        "colab": {
          "base_uri": "https://localhost:8080/"
        },
        "id": "5fbqe5_nEJ0S",
        "outputId": "61322328-f47b-4383-d63b-dbfb3a17c780"
      },
      "execution_count": null,
      "outputs": [
        {
          "output_type": "stream",
          "name": "stdout",
          "text": [
            "     PassengerId  Survived  Pclass  \\\n",
            "1              2         1       1   \n",
            "3              4         1       1   \n",
            "6              7         0       1   \n",
            "10            11         1       3   \n",
            "11            12         1       1   \n",
            "..           ...       ...     ...   \n",
            "871          872         1       1   \n",
            "872          873         0       1   \n",
            "879          880         1       1   \n",
            "887          888         1       1   \n",
            "889          890         1       1   \n",
            "\n",
            "                                                  Name     Sex   Age  SibSp  \\\n",
            "1    Cumings, Mrs. John Bradley (Florence Briggs Th...  female  38.0      1   \n",
            "3         Futrelle, Mrs. Jacques Heath (Lily May Peel)  female  35.0      1   \n",
            "6                              McCarthy, Mr. Timothy J    male  54.0      0   \n",
            "10                     Sandstrom, Miss. Marguerite Rut  female   4.0      1   \n",
            "11                            Bonnell, Miss. Elizabeth  female  58.0      0   \n",
            "..                                                 ...     ...   ...    ...   \n",
            "871   Beckwith, Mrs. Richard Leonard (Sallie Monypeny)  female  47.0      1   \n",
            "872                           Carlsson, Mr. Frans Olof    male  33.0      0   \n",
            "879      Potter, Mrs. Thomas Jr (Lily Alexenia Wilson)  female  56.0      0   \n",
            "887                       Graham, Miss. Margaret Edith  female  19.0      0   \n",
            "889                              Behr, Mr. Karl Howell    male  26.0      0   \n",
            "\n",
            "     Parch    Ticket     Fare        Cabin Embarked  \n",
            "1        0  PC 17599  71.2833          C85        C  \n",
            "3        0    113803  53.1000         C123        S  \n",
            "6        0     17463  51.8625          E46        S  \n",
            "10       1   PP 9549  16.7000           G6        S  \n",
            "11       0    113783  26.5500         C103        S  \n",
            "..     ...       ...      ...          ...      ...  \n",
            "871      1     11751  52.5542          D35        S  \n",
            "872      0       695   5.0000  B51 B53 B55        S  \n",
            "879      1     11767  83.1583          C50        C  \n",
            "887      0    112053  30.0000          B42        S  \n",
            "889      0    111369  30.0000         C148        C  \n",
            "\n",
            "[202 rows x 12 columns]\n"
          ]
        }
      ]
    },
    {
      "cell_type": "code",
      "source": [
        "df['FamilySize']=df['SibSp']=df['Parch']\n",
        "print(df.head())"
      ],
      "metadata": {
        "colab": {
          "base_uri": "https://localhost:8080/"
        },
        "id": "Q1NXbkQUMfcF",
        "outputId": "61bc7500-7c27-475b-e18e-0587b42bafdb"
      },
      "execution_count": null,
      "outputs": [
        {
          "output_type": "stream",
          "name": "stdout",
          "text": [
            "    PassengerId  Survived  Pclass  \\\n",
            "1             2         1       1   \n",
            "3             4         1       1   \n",
            "6             7         0       1   \n",
            "10           11         1       3   \n",
            "11           12         1       1   \n",
            "\n",
            "                                                 Name     Sex   Age  SibSp  \\\n",
            "1   Cumings, Mrs. John Bradley (Florence Briggs Th...  female  38.0      0   \n",
            "3        Futrelle, Mrs. Jacques Heath (Lily May Peel)  female  35.0      0   \n",
            "6                             McCarthy, Mr. Timothy J    male  54.0      0   \n",
            "10                    Sandstrom, Miss. Marguerite Rut  female   4.0      1   \n",
            "11                           Bonnell, Miss. Elizabeth  female  58.0      0   \n",
            "\n",
            "    Parch    Ticket     Fare Cabin Embarked  FamilySize  \n",
            "1       0  PC 17599  71.2833   C85        C           0  \n",
            "3       0    113803  53.1000  C123        S           0  \n",
            "6       0     17463  51.8625   E46        S           0  \n",
            "10      1   PP 9549  16.7000    G6        S           1  \n",
            "11      0    113783  26.5500  C103        S           0  \n"
          ]
        }
      ]
    },
    {
      "cell_type": "code",
      "source": [
        "df['Title']=df['Name'].apply(lambda x:x.split(',')[1].split('.')[0].strip())\n",
        "\n",
        "print(\"df after cleaning:\")\n",
        "print(df.head())"
      ],
      "metadata": {
        "colab": {
          "base_uri": "https://localhost:8080/"
        },
        "id": "RdMsrheXOFZd",
        "outputId": "548f2e77-64c9-4274-b3ba-16e3a73e6ba8"
      },
      "execution_count": null,
      "outputs": [
        {
          "output_type": "stream",
          "name": "stdout",
          "text": [
            "df after cleaning:\n",
            "    PassengerId  Survived  Pclass  \\\n",
            "1             2         1       1   \n",
            "3             4         1       1   \n",
            "6             7         0       1   \n",
            "10           11         1       3   \n",
            "11           12         1       1   \n",
            "\n",
            "                                                 Name     Sex   Age  SibSp  \\\n",
            "1   Cumings, Mrs. John Bradley (Florence Briggs Th...  female  38.0      0   \n",
            "3        Futrelle, Mrs. Jacques Heath (Lily May Peel)  female  35.0      0   \n",
            "6                             McCarthy, Mr. Timothy J    male  54.0      0   \n",
            "10                    Sandstrom, Miss. Marguerite Rut  female   4.0      1   \n",
            "11                           Bonnell, Miss. Elizabeth  female  58.0      0   \n",
            "\n",
            "    Parch    Ticket     Fare Cabin Embarked  FamilySize Title  \n",
            "1       0  PC 17599  71.2833   C85        C           0   Mrs  \n",
            "3       0    113803  53.1000  C123        S           0   Mrs  \n",
            "6       0     17463  51.8625   E46        S           0    Mr  \n",
            "10      1   PP 9549  16.7000    G6        S           1  Miss  \n",
            "11      0    113783  26.5500  C103        S           0  Miss  \n"
          ]
        }
      ]
    }
  ]
}