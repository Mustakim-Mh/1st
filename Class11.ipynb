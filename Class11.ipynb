{
  "nbformat": 4,
  "nbformat_minor": 0,
  "metadata": {
    "colab": {
      "provenance": [],
      "authorship_tag": "ABX9TyMrrYL7XyZRFo4uhzSxgZ0j",
      "include_colab_link": true
    },
    "kernelspec": {
      "name": "python3",
      "display_name": "Python 3"
    },
    "language_info": {
      "name": "python"
    }
  },
  "cells": [
    {
      "cell_type": "markdown",
      "metadata": {
        "id": "view-in-github",
        "colab_type": "text"
      },
      "source": [
        "<a href=\"https://colab.research.google.com/github/Mustakim-Mh/1st/blob/main/Class11.ipynb\" target=\"_parent\"><img src=\"https://colab.research.google.com/assets/colab-badge.svg\" alt=\"Open In Colab\"/></a>"
      ]
    },
    {
      "cell_type": "code",
      "execution_count": null,
      "metadata": {
        "colab": {
          "base_uri": "https://localhost:8080/"
        },
        "id": "a6am5xQQmDgC",
        "outputId": "9057e93d-1655-4995-fc24-1507aa036df4"
      },
      "outputs": [
        {
          "metadata": {
            "tags": null
          },
          "name": "stdout",
          "output_type": "stream",
          "text": [
            "MAIN MENU\n",
            "1. String Operation\n",
            "2. Number Operation\n",
            "3. EXIT\n",
            "\n",
            "Thank you for choosing string operation\n",
            "MAIN MENU\n",
            "1. String Operation\n",
            "2. Number Operation\n",
            "3. EXIT\n"
          ]
        }
      ],
      "source": [
        "def main_menu():\n",
        "  print(\"MAIN MENU\")\n",
        "  print(\"1. String Operation\")\n",
        "  print(\"2. Number Operation\")\n",
        "  print(\"3. EXIT\")\n",
        "\n",
        "def main():\n",
        "  while (True):\n",
        "      main_menu()\n",
        "      choice = input('\\nEnter choice(1, 2 or 3): ')\n",
        "      if choice == '1':\n",
        "        print(\"\\nThank you for choosing string operation\")\n",
        "      elif choice == '2':\n",
        "       print('\\nThank you for choosing number operation.')\n",
        "      elif choice == '3':\n",
        "       print('\\nThanks for using Switch Statements')\n",
        "       break\n",
        "      else:\n",
        "       print('\\nInvalid input!!!')\n",
        "\n",
        "main()"
      ]
    },
    {
      "cell_type": "code",
      "source": [],
      "metadata": {
        "id": "KhCyFmgD_vyc"
      },
      "execution_count": null,
      "outputs": []
    },
    {
      "cell_type": "code",
      "source": [
        "import re\n",
        "def fnEmailValidation(email):\n",
        "  if re.match(f\"[^@]+@[^@]+\\.[^@]+\", email):\n",
        "      return True\n",
        "  return False\n",
        "while True:\n",
        "    rchoice = input('Choice(1-> EmailValidation,2->Exit): ')\n",
        "    print()\n",
        "    if rchoice == '1':\n",
        "        email = input(\"\\nEnter an email address: \")\n",
        "        if (fnEmailValidation(email)) is True:\n",
        "            print(f\"\\nProvided email address [{email}] is valid\")\n",
        "        else:\n",
        "            print(f\"\\nProvided email address [{email}] not valid\")\n",
        "    elif rchoice == '2':\n",
        "         print('\\nInvalid input !!!')\n",
        "         break\n",
        "         import re #regular expression module should be imported here"
      ],
      "metadata": {
        "id": "MMHT4Zz9Acjq",
        "colab": {
          "base_uri": "https://localhost:8080/"
        },
        "outputId": "7c7ba4d7-7b31-4b7e-acce-47dc60506b1f"
      },
      "execution_count": null,
      "outputs": [
        {
          "output_type": "stream",
          "name": "stdout",
          "text": [
            "Choice(1-> EmailValidation,2->Exit): 1\n",
            "\n",
            "\n",
            "Enter an email address: ihbuufhgf@ouhh.com\n",
            "\n",
            "Provided email address [ihbuufhgf@ouhh.com] is valid\n",
            "Choice(1-> EmailValidation,2->Exit): 2\n",
            "\n",
            "\n",
            "Invalid input !!!\n"
          ]
        }
      ]
    },
    {
      "cell_type": "code",
      "source": [
        "def main_menu():\n",
        "  print(\"MAIN MENU\")\n",
        "  print(\"1. String Operation\")\n",
        "  print(\"2. Number Operation\")\n",
        "  print(\"3. EXIT\")\n",
        "\n",
        "\n",
        "def createPyramid(n):\n",
        "    for i in range(0, n):\n",
        "        print(\"#\" * i)\n",
        "\n",
        "    for i in range(n, 0, -1):\n",
        "        print(\"#\" * i)\n",
        "\n",
        "def main():\n",
        "  while (True):\n",
        "      main_menu()\n",
        "      choice = input('\\nEnter choice(1, 2 or 3): ')\n",
        "\n"
      ],
      "metadata": {
        "colab": {
          "base_uri": "https://localhost:8080/",
          "height": 106
        },
        "id": "5I3Iapf_JwbU",
        "outputId": "c87e1ee2-111d-4567-bcaa-00bd5b7d3970"
      },
      "execution_count": null,
      "outputs": [
        {
          "output_type": "error",
          "ename": "IndentationError",
          "evalue": "unindent does not match any outer indentation level (<tokenize>, line 25)",
          "traceback": [
            "\u001b[0;36m  File \u001b[0;32m\"<tokenize>\"\u001b[0;36m, line \u001b[0;32m25\u001b[0m\n\u001b[0;31m    while True:\u001b[0m\n\u001b[0m    ^\u001b[0m\n\u001b[0;31mIndentationError\u001b[0m\u001b[0;31m:\u001b[0m unindent does not match any outer indentation level\n"
          ]
        }
      ]
    }
  ]
}